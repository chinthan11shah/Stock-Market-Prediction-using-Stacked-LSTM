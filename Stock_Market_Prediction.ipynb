{
  "nbformat": 4,
  "nbformat_minor": 0,
  "metadata": {
    "kernelspec": {
      "display_name": "Python 3",
      "language": "python",
      "name": "python3"
    },
    "language_info": {
      "codemirror_mode": {
        "name": "ipython",
        "version": 3
      },
      "file_extension": ".py",
      "mimetype": "text/x-python",
      "name": "python",
      "nbconvert_exporter": "python",
      "pygments_lexer": "ipython3",
      "version": "3.7.4"
    },
    "colab": {
      "name": "Stock Market Prediction.ipynb",
      "provenance": []
    },
    "accelerator": "GPU"
  },
  "cells": [
    {
      "cell_type": "code",
      "metadata": {
        "id": "vgnuwnU9IMt3",
        "colab_type": "code",
        "colab": {
          "base_uri": "https://localhost:8080/",
          "height": 255
        },
        "outputId": "8a41e366-d4cd-4002-97fb-adcdaec05a16"
      },
      "source": [
        "!pip install pandas_datareader\n",
        "import pandas_datareader as pdr"
      ],
      "execution_count": 1,
      "outputs": [
        {
          "output_type": "stream",
          "text": [
            "Requirement already satisfied: pandas_datareader in /usr/local/lib/python3.6/dist-packages (0.8.1)\n",
            "Requirement already satisfied: lxml in /usr/local/lib/python3.6/dist-packages (from pandas_datareader) (4.2.6)\n",
            "Requirement already satisfied: pandas>=0.21 in /usr/local/lib/python3.6/dist-packages (from pandas_datareader) (1.0.5)\n",
            "Requirement already satisfied: requests>=2.3.0 in /usr/local/lib/python3.6/dist-packages (from pandas_datareader) (2.23.0)\n",
            "Requirement already satisfied: numpy>=1.13.3 in /usr/local/lib/python3.6/dist-packages (from pandas>=0.21->pandas_datareader) (1.18.5)\n",
            "Requirement already satisfied: pytz>=2017.2 in /usr/local/lib/python3.6/dist-packages (from pandas>=0.21->pandas_datareader) (2018.9)\n",
            "Requirement already satisfied: python-dateutil>=2.6.1 in /usr/local/lib/python3.6/dist-packages (from pandas>=0.21->pandas_datareader) (2.8.1)\n",
            "Requirement already satisfied: idna<3,>=2.5 in /usr/local/lib/python3.6/dist-packages (from requests>=2.3.0->pandas_datareader) (2.10)\n",
            "Requirement already satisfied: certifi>=2017.4.17 in /usr/local/lib/python3.6/dist-packages (from requests>=2.3.0->pandas_datareader) (2020.6.20)\n",
            "Requirement already satisfied: urllib3!=1.25.0,!=1.25.1,<1.26,>=1.21.1 in /usr/local/lib/python3.6/dist-packages (from requests>=2.3.0->pandas_datareader) (1.24.3)\n",
            "Requirement already satisfied: chardet<4,>=3.0.2 in /usr/local/lib/python3.6/dist-packages (from requests>=2.3.0->pandas_datareader) (3.0.4)\n",
            "Requirement already satisfied: six>=1.5 in /usr/local/lib/python3.6/dist-packages (from python-dateutil>=2.6.1->pandas>=0.21->pandas_datareader) (1.12.0)\n"
          ],
          "name": "stdout"
        },
        {
          "output_type": "stream",
          "text": [
            "/usr/local/lib/python3.6/dist-packages/pandas_datareader/compat/__init__.py:7: FutureWarning: pandas.util.testing is deprecated. Use the functions in the public API at pandas.testing instead.\n",
            "  from pandas.util.testing import assert_frame_equal\n"
          ],
          "name": "stderr"
        }
      ]
    },
    {
      "cell_type": "code",
      "metadata": {
        "id": "mDJ0G1AxIMt9",
        "colab_type": "code",
        "colab": {}
      },
      "source": [
        "key='88db83f661bb558f2d29049f89d71911d5a30f98'\n",
        "df = pdr.get_data_tiingo('AAPL', api_key=key)"
      ],
      "execution_count": 2,
      "outputs": []
    },
    {
      "cell_type": "code",
      "metadata": {
        "id": "7JoTooqUIMuB",
        "colab_type": "code",
        "colab": {}
      },
      "source": [
        "import pandas as pd\n",
        "import numpy as np"
      ],
      "execution_count": 3,
      "outputs": []
    },
    {
      "cell_type": "code",
      "metadata": {
        "id": "Aow9-6WQIMuG",
        "colab_type": "code",
        "colab": {}
      },
      "source": [
        "df.to_csv('AAPL.csv')"
      ],
      "execution_count": 4,
      "outputs": []
    },
    {
      "cell_type": "code",
      "metadata": {
        "id": "LEwYWgL4IMuJ",
        "colab_type": "code",
        "colab": {
          "base_uri": "https://localhost:8080/",
          "height": 419
        },
        "outputId": "4572fcaf-75e0-4508-eba9-e2ee119f3fc1"
      },
      "source": [
        "df = pd.read_csv('AAPL.csv')\n",
        "df"
      ],
      "execution_count": 5,
      "outputs": [
        {
          "output_type": "execute_result",
          "data": {
            "text/html": [
              "<div>\n",
              "<style scoped>\n",
              "    .dataframe tbody tr th:only-of-type {\n",
              "        vertical-align: middle;\n",
              "    }\n",
              "\n",
              "    .dataframe tbody tr th {\n",
              "        vertical-align: top;\n",
              "    }\n",
              "\n",
              "    .dataframe thead th {\n",
              "        text-align: right;\n",
              "    }\n",
              "</style>\n",
              "<table border=\"1\" class=\"dataframe\">\n",
              "  <thead>\n",
              "    <tr style=\"text-align: right;\">\n",
              "      <th></th>\n",
              "      <th>symbol</th>\n",
              "      <th>date</th>\n",
              "      <th>close</th>\n",
              "      <th>high</th>\n",
              "      <th>low</th>\n",
              "      <th>open</th>\n",
              "      <th>volume</th>\n",
              "      <th>adjClose</th>\n",
              "      <th>adjHigh</th>\n",
              "      <th>adjLow</th>\n",
              "      <th>adjOpen</th>\n",
              "      <th>adjVolume</th>\n",
              "      <th>divCash</th>\n",
              "      <th>splitFactor</th>\n",
              "    </tr>\n",
              "  </thead>\n",
              "  <tbody>\n",
              "    <tr>\n",
              "      <th>0</th>\n",
              "      <td>AAPL</td>\n",
              "      <td>2015-07-21 00:00:00+00:00</td>\n",
              "      <td>130.75</td>\n",
              "      <td>132.92</td>\n",
              "      <td>130.32</td>\n",
              "      <td>132.85</td>\n",
              "      <td>76756427</td>\n",
              "      <td>120.489185</td>\n",
              "      <td>122.488891</td>\n",
              "      <td>120.092930</td>\n",
              "      <td>122.424384</td>\n",
              "      <td>76756427</td>\n",
              "      <td>0.0</td>\n",
              "      <td>1.0</td>\n",
              "    </tr>\n",
              "    <tr>\n",
              "      <th>1</th>\n",
              "      <td>AAPL</td>\n",
              "      <td>2015-07-22 00:00:00+00:00</td>\n",
              "      <td>125.22</td>\n",
              "      <td>125.50</td>\n",
              "      <td>121.99</td>\n",
              "      <td>121.99</td>\n",
              "      <td>115450607</td>\n",
              "      <td>115.393160</td>\n",
              "      <td>115.651187</td>\n",
              "      <td>112.416640</td>\n",
              "      <td>112.416640</td>\n",
              "      <td>115450607</td>\n",
              "      <td>0.0</td>\n",
              "      <td>1.0</td>\n",
              "    </tr>\n",
              "    <tr>\n",
              "      <th>2</th>\n",
              "      <td>AAPL</td>\n",
              "      <td>2015-07-23 00:00:00+00:00</td>\n",
              "      <td>125.16</td>\n",
              "      <td>127.09</td>\n",
              "      <td>125.06</td>\n",
              "      <td>126.20</td>\n",
              "      <td>50999452</td>\n",
              "      <td>115.337869</td>\n",
              "      <td>117.116409</td>\n",
              "      <td>115.245717</td>\n",
              "      <td>116.296253</td>\n",
              "      <td>50999452</td>\n",
              "      <td>0.0</td>\n",
              "      <td>1.0</td>\n",
              "    </tr>\n",
              "    <tr>\n",
              "      <th>3</th>\n",
              "      <td>AAPL</td>\n",
              "      <td>2015-07-24 00:00:00+00:00</td>\n",
              "      <td>124.50</td>\n",
              "      <td>125.74</td>\n",
              "      <td>123.90</td>\n",
              "      <td>125.32</td>\n",
              "      <td>42162332</td>\n",
              "      <td>114.729663</td>\n",
              "      <td>115.872352</td>\n",
              "      <td>114.176749</td>\n",
              "      <td>115.485313</td>\n",
              "      <td>42162332</td>\n",
              "      <td>0.0</td>\n",
              "      <td>1.0</td>\n",
              "    </tr>\n",
              "    <tr>\n",
              "      <th>4</th>\n",
              "      <td>AAPL</td>\n",
              "      <td>2015-07-27 00:00:00+00:00</td>\n",
              "      <td>122.77</td>\n",
              "      <td>123.61</td>\n",
              "      <td>122.12</td>\n",
              "      <td>123.09</td>\n",
              "      <td>44455540</td>\n",
              "      <td>113.135428</td>\n",
              "      <td>113.909508</td>\n",
              "      <td>112.536438</td>\n",
              "      <td>113.430315</td>\n",
              "      <td>44455540</td>\n",
              "      <td>0.0</td>\n",
              "      <td>1.0</td>\n",
              "    </tr>\n",
              "    <tr>\n",
              "      <th>...</th>\n",
              "      <td>...</td>\n",
              "      <td>...</td>\n",
              "      <td>...</td>\n",
              "      <td>...</td>\n",
              "      <td>...</td>\n",
              "      <td>...</td>\n",
              "      <td>...</td>\n",
              "      <td>...</td>\n",
              "      <td>...</td>\n",
              "      <td>...</td>\n",
              "      <td>...</td>\n",
              "      <td>...</td>\n",
              "      <td>...</td>\n",
              "      <td>...</td>\n",
              "    </tr>\n",
              "    <tr>\n",
              "      <th>1253</th>\n",
              "      <td>AAPL</td>\n",
              "      <td>2020-07-13 00:00:00+00:00</td>\n",
              "      <td>381.91</td>\n",
              "      <td>399.82</td>\n",
              "      <td>381.03</td>\n",
              "      <td>389.06</td>\n",
              "      <td>47913100</td>\n",
              "      <td>381.910000</td>\n",
              "      <td>399.820000</td>\n",
              "      <td>381.030000</td>\n",
              "      <td>389.060000</td>\n",
              "      <td>47913100</td>\n",
              "      <td>0.0</td>\n",
              "      <td>1.0</td>\n",
              "    </tr>\n",
              "    <tr>\n",
              "      <th>1254</th>\n",
              "      <td>AAPL</td>\n",
              "      <td>2020-07-14 00:00:00+00:00</td>\n",
              "      <td>388.23</td>\n",
              "      <td>389.02</td>\n",
              "      <td>375.51</td>\n",
              "      <td>379.36</td>\n",
              "      <td>42748100</td>\n",
              "      <td>388.230000</td>\n",
              "      <td>389.020000</td>\n",
              "      <td>375.510000</td>\n",
              "      <td>379.360000</td>\n",
              "      <td>42748100</td>\n",
              "      <td>0.0</td>\n",
              "      <td>1.0</td>\n",
              "    </tr>\n",
              "    <tr>\n",
              "      <th>1255</th>\n",
              "      <td>AAPL</td>\n",
              "      <td>2020-07-15 00:00:00+00:00</td>\n",
              "      <td>390.90</td>\n",
              "      <td>396.99</td>\n",
              "      <td>385.96</td>\n",
              "      <td>395.96</td>\n",
              "      <td>38306900</td>\n",
              "      <td>390.900000</td>\n",
              "      <td>396.990000</td>\n",
              "      <td>385.960000</td>\n",
              "      <td>395.960000</td>\n",
              "      <td>38306900</td>\n",
              "      <td>0.0</td>\n",
              "      <td>1.0</td>\n",
              "    </tr>\n",
              "    <tr>\n",
              "      <th>1256</th>\n",
              "      <td>AAPL</td>\n",
              "      <td>2020-07-16 00:00:00+00:00</td>\n",
              "      <td>386.09</td>\n",
              "      <td>389.62</td>\n",
              "      <td>383.62</td>\n",
              "      <td>386.25</td>\n",
              "      <td>27645900</td>\n",
              "      <td>386.090000</td>\n",
              "      <td>389.620000</td>\n",
              "      <td>383.620000</td>\n",
              "      <td>386.250000</td>\n",
              "      <td>27645900</td>\n",
              "      <td>0.0</td>\n",
              "      <td>1.0</td>\n",
              "    </tr>\n",
              "    <tr>\n",
              "      <th>1257</th>\n",
              "      <td>AAPL</td>\n",
              "      <td>2020-07-17 00:00:00+00:00</td>\n",
              "      <td>385.31</td>\n",
              "      <td>388.59</td>\n",
              "      <td>383.36</td>\n",
              "      <td>387.95</td>\n",
              "      <td>23046800</td>\n",
              "      <td>385.310000</td>\n",
              "      <td>388.590000</td>\n",
              "      <td>383.360000</td>\n",
              "      <td>387.950000</td>\n",
              "      <td>23046800</td>\n",
              "      <td>0.0</td>\n",
              "      <td>1.0</td>\n",
              "    </tr>\n",
              "  </tbody>\n",
              "</table>\n",
              "<p>1258 rows × 14 columns</p>\n",
              "</div>"
            ],
            "text/plain": [
              "     symbol                       date   close  ...  adjVolume  divCash  splitFactor\n",
              "0      AAPL  2015-07-21 00:00:00+00:00  130.75  ...   76756427      0.0          1.0\n",
              "1      AAPL  2015-07-22 00:00:00+00:00  125.22  ...  115450607      0.0          1.0\n",
              "2      AAPL  2015-07-23 00:00:00+00:00  125.16  ...   50999452      0.0          1.0\n",
              "3      AAPL  2015-07-24 00:00:00+00:00  124.50  ...   42162332      0.0          1.0\n",
              "4      AAPL  2015-07-27 00:00:00+00:00  122.77  ...   44455540      0.0          1.0\n",
              "...     ...                        ...     ...  ...        ...      ...          ...\n",
              "1253   AAPL  2020-07-13 00:00:00+00:00  381.91  ...   47913100      0.0          1.0\n",
              "1254   AAPL  2020-07-14 00:00:00+00:00  388.23  ...   42748100      0.0          1.0\n",
              "1255   AAPL  2020-07-15 00:00:00+00:00  390.90  ...   38306900      0.0          1.0\n",
              "1256   AAPL  2020-07-16 00:00:00+00:00  386.09  ...   27645900      0.0          1.0\n",
              "1257   AAPL  2020-07-17 00:00:00+00:00  385.31  ...   23046800      0.0          1.0\n",
              "\n",
              "[1258 rows x 14 columns]"
            ]
          },
          "metadata": {
            "tags": []
          },
          "execution_count": 5
        }
      ]
    },
    {
      "cell_type": "code",
      "metadata": {
        "id": "gyYVQ-UAIMuM",
        "colab_type": "code",
        "colab": {
          "base_uri": "https://localhost:8080/",
          "height": 544
        },
        "outputId": "791ec28d-6185-4daf-c987-959e7f201e46"
      },
      "source": [
        "df2 = df.reset_index()['close']\n",
        "df2[1228:]"
      ],
      "execution_count": 6,
      "outputs": [
        {
          "output_type": "execute_result",
          "data": {
            "text/plain": [
              "1228    331.50\n",
              "1229    333.46\n",
              "1230    343.99\n",
              "1231    352.84\n",
              "1232    335.90\n",
              "1233    338.80\n",
              "1234    342.99\n",
              "1235    352.08\n",
              "1236    351.59\n",
              "1237    351.73\n",
              "1238    349.72\n",
              "1239    358.87\n",
              "1240    366.53\n",
              "1241    360.06\n",
              "1242    364.84\n",
              "1243    353.63\n",
              "1244    361.78\n",
              "1245    364.80\n",
              "1246    364.11\n",
              "1247    364.11\n",
              "1248    373.85\n",
              "1249    372.69\n",
              "1250    381.37\n",
              "1251    383.01\n",
              "1252    383.68\n",
              "1253    381.91\n",
              "1254    388.23\n",
              "1255    390.90\n",
              "1256    386.09\n",
              "1257    385.31\n",
              "Name: close, dtype: float64"
            ]
          },
          "metadata": {
            "tags": []
          },
          "execution_count": 6
        }
      ]
    },
    {
      "cell_type": "code",
      "metadata": {
        "id": "vxDPu2a6IMuP",
        "colab_type": "code",
        "colab": {
          "base_uri": "https://localhost:8080/",
          "height": 34
        },
        "outputId": "2906de68-b795-480d-c063-9a2d3867ea3e"
      },
      "source": [
        "df2.shape"
      ],
      "execution_count": 7,
      "outputs": [
        {
          "output_type": "execute_result",
          "data": {
            "text/plain": [
              "(1258,)"
            ]
          },
          "metadata": {
            "tags": []
          },
          "execution_count": 7
        }
      ]
    },
    {
      "cell_type": "code",
      "metadata": {
        "id": "-RgTL9dRIMuS",
        "colab_type": "code",
        "colab": {
          "base_uri": "https://localhost:8080/",
          "height": 282
        },
        "outputId": "e771e949-55e4-4f20-91ef-146b9120904b"
      },
      "source": [
        "import matplotlib.pyplot as plt\n",
        "plt.plot(df2)"
      ],
      "execution_count": 8,
      "outputs": [
        {
          "output_type": "execute_result",
          "data": {
            "text/plain": [
              "[<matplotlib.lines.Line2D at 0x7fa8a217ec18>]"
            ]
          },
          "metadata": {
            "tags": []
          },
          "execution_count": 8
        },
        {
          "output_type": "display_data",
          "data": {
            "image/png": "[encoded data removed]",
            "text/plain": [
              "<Figure size 432x288 with 1 Axes>"
            ]
          },
          "metadata": {
            "tags": [],
            "needs_background": "light"
          }
        }
      ]
    },
    {
      "cell_type": "code",
      "metadata": {
        "id": "RN5PUdgvIMuU",
        "colab_type": "code",
        "colab": {}
      },
      "source": [
        "# LSTM are sensitive to the scale of the data. So we apply MinMax scalar"
      ],
      "execution_count": 9,
      "outputs": []
    },
    {
      "cell_type": "code",
      "metadata": {
        "id": "cm7skUNaIMuX",
        "colab_type": "code",
        "colab": {
          "base_uri": "https://localhost:8080/",
          "height": 34
        },
        "outputId": "3a8bd016-9a4e-4c5f-888f-b898e8bae764"
      },
      "source": [
        "from sklearn.preprocessing import MinMaxScaler\n",
        "scaler = MinMaxScaler(feature_range=(0,1))\n",
        "df2 = scaler.fit_transform(np.array(df2).reshape(-1,1))\n",
        "df2.shape"
      ],
      "execution_count": 10,
      "outputs": [
        {
          "output_type": "execute_result",
          "data": {
            "text/plain": [
              "(1258, 1)"
            ]
          },
          "metadata": {
            "tags": []
          },
          "execution_count": 10
        }
      ]
    },
    {
      "cell_type": "code",
      "metadata": {
        "id": "rEcgQPMLIMua",
        "colab_type": "code",
        "colab": {}
      },
      "source": [
        "# Splitting dataset into train and test split\n",
        "\n",
        "training_size = int(len(df2)*0.7)\n",
        "test_size = len(df2) - training_size\n",
        "train_data, test_data = df2[0:training_size,:],df2[training_size:len(df2),:1]"
      ],
      "execution_count": 11,
      "outputs": []
    },
    {
      "cell_type": "code",
      "metadata": {
        "id": "Vwaw3AH6IMuc",
        "colab_type": "code",
        "colab": {}
      },
      "source": [
        "#print(train_data)"
      ],
      "execution_count": 12,
      "outputs": []
    },
    {
      "cell_type": "code",
      "metadata": {
        "id": "AL3vp1Q6IMuh",
        "colab_type": "code",
        "colab": {}
      },
      "source": [
        "# convert an array of values into a dataset matrix\n",
        "import numpy\n",
        "def create_dataset(dataset, time_step):\n",
        "    dataX, dataY = [], []\n",
        "    for i in range(len(dataset)-time_step-1):\n",
        "        a = dataset[i:(i+time_step), 0]   \n",
        "        ###i=0,1,2,3,4,5,6,7,8,9 No. of past values we want to consider \n",
        "        dataX.append(a) # so this will have 10 values, 11th values will be appended in dataY\n",
        "        dataY.append(dataset[i + time_step, 0])\n",
        "    return numpy.array(dataX), numpy.array(dataY)"
      ],
      "execution_count": 13,
      "outputs": []
    },
    {
      "cell_type": "code",
      "metadata": {
        "id": "yNbUWl7xIMum",
        "colab_type": "code",
        "colab": {}
      },
      "source": [
        "# reshape into x=t, t+1, t+2, t+3 and t+4 depending on the time_step value\n",
        "\n",
        "time_step = 100\n",
        "X_train, y_train = create_dataset(train_data, time_step)\n",
        "X_test, y_test = create_dataset(test_data, time_step)"
      ],
      "execution_count": 14,
      "outputs": []
    },
    {
      "cell_type": "code",
      "metadata": {
        "id": "OtzrjEGIIMuq",
        "colab_type": "code",
        "colab": {}
      },
      "source": [
        "# reshape input to be [samples, timesteps, features] which is required for LSTM\n",
        "\n",
        "X_train = X_train.reshape(X_train.shape[0],X_train.shape[1],1)\n",
        "X_test = X_test.reshape(X_test.shape[0],X_test.shape[1],1)"
      ],
      "execution_count": 15,
      "outputs": []
    },
    {
      "cell_type": "code",
      "metadata": {
        "id": "vxwh8yRWIMuv",
        "colab_type": "code",
        "colab": {
          "base_uri": "https://localhost:8080/",
          "height": 666
        },
        "outputId": "71bcd3f8-bf9b-4e44-bf00-22626a9392dd"
      },
      "source": [
        "!pip install tensorflow "
      ],
      "execution_count": 16,
      "outputs": [
        {
          "output_type": "stream",
          "text": [
            "Requirement already satisfied: tensorflow in /usr/local/lib/python3.6/dist-packages (2.2.0)\n",
            "Requirement already satisfied: gast==0.3.3 in /usr/local/lib/python3.6/dist-packages (from tensorflow) (0.3.3)\n",
            "Requirement already satisfied: termcolor>=1.1.0 in /usr/local/lib/python3.6/dist-packages (from tensorflow) (1.1.0)\n",
            "Requirement already satisfied: opt-einsum>=2.3.2 in /usr/local/lib/python3.6/dist-packages (from tensorflow) (3.2.1)\n",
            "Requirement already satisfied: tensorboard<2.3.0,>=2.2.0 in /usr/local/lib/python3.6/dist-packages (from tensorflow) (2.2.2)\n",
            "Requirement already satisfied: wrapt>=1.11.1 in /usr/local/lib/python3.6/dist-packages (from tensorflow) (1.12.1)\n",
            "Requirement already satisfied: tensorflow-estimator<2.3.0,>=2.2.0 in /usr/local/lib/python3.6/dist-packages (from tensorflow) (2.2.0)\n",
            "Requirement already satisfied: wheel>=0.26; python_version >= \"3\" in /usr/local/lib/python3.6/dist-packages (from tensorflow) (0.34.2)\n",
            "Requirement already satisfied: astunparse==1.6.3 in /usr/local/lib/python3.6/dist-packages (from tensorflow) (1.6.3)\n",
            "Requirement already satisfied: six>=1.12.0 in /usr/local/lib/python3.6/dist-packages (from tensorflow) (1.12.0)\n",
            "Requirement already satisfied: scipy==1.4.1; python_version >= \"3\" in /usr/local/lib/python3.6/dist-packages (from tensorflow) (1.4.1)\n",
            "Requirement already satisfied: keras-preprocessing>=1.1.0 in /usr/local/lib/python3.6/dist-packages (from tensorflow) (1.1.2)\n",
            "Requirement already satisfied: numpy<2.0,>=1.16.0 in /usr/local/lib/python3.6/dist-packages (from tensorflow) (1.18.5)\n",
            "Requirement already satisfied: absl-py>=0.7.0 in /usr/local/lib/python3.6/dist-packages (from tensorflow) (0.9.0)\n",
            "Requirement already satisfied: grpcio>=1.8.6 in /usr/local/lib/python3.6/dist-packages (from tensorflow) (1.30.0)\n",
            "Requirement already satisfied: h5py<2.11.0,>=2.10.0 in /usr/local/lib/python3.6/dist-packages (from tensorflow) (2.10.0)\n",
            "Requirement already satisfied: protobuf>=3.8.0 in /usr/local/lib/python3.6/dist-packages (from tensorflow) (3.12.2)\n",
            "Requirement already satisfied: google-pasta>=0.1.8 in /usr/local/lib/python3.6/dist-packages (from tensorflow) (0.2.0)\n",
            "Requirement already satisfied: markdown>=2.6.8 in /usr/local/lib/python3.6/dist-packages (from tensorboard<2.3.0,>=2.2.0->tensorflow) (3.2.2)\n",
            "Requirement already satisfied: werkzeug>=0.11.15 in /usr/local/lib/python3.6/dist-packages (from tensorboard<2.3.0,>=2.2.0->tensorflow) (1.0.1)\n",
            "Requirement already satisfied: google-auth<2,>=1.6.3 in /usr/local/lib/python3.6/dist-packages (from tensorboard<2.3.0,>=2.2.0->tensorflow) (1.17.2)\n",
            "Requirement already satisfied: tensorboard-plugin-wit>=1.6.0 in /usr/local/lib/python3.6/dist-packages (from tensorboard<2.3.0,>=2.2.0->tensorflow) (1.7.0)\n",
            "Requirement already satisfied: google-auth-oauthlib<0.5,>=0.4.1 in /usr/local/lib/python3.6/dist-packages (from tensorboard<2.3.0,>=2.2.0->tensorflow) (0.4.1)\n",
            "Requirement already satisfied: setuptools>=41.0.0 in /usr/local/lib/python3.6/dist-packages (from tensorboard<2.3.0,>=2.2.0->tensorflow) (49.1.0)\n",
            "Requirement already satisfied: requests<3,>=2.21.0 in /usr/local/lib/python3.6/dist-packages (from tensorboard<2.3.0,>=2.2.0->tensorflow) (2.23.0)\n",
            "Requirement already satisfied: importlib-metadata; python_version < \"3.8\" in /usr/local/lib/python3.6/dist-packages (from markdown>=2.6.8->tensorboard<2.3.0,>=2.2.0->tensorflow) (1.7.0)\n",
            "Requirement already satisfied: cachetools<5.0,>=2.0.0 in /usr/local/lib/python3.6/dist-packages (from google-auth<2,>=1.6.3->tensorboard<2.3.0,>=2.2.0->tensorflow) (4.1.1)\n",
            "Requirement already satisfied: pyasn1-modules>=0.2.1 in /usr/local/lib/python3.6/dist-packages (from google-auth<2,>=1.6.3->tensorboard<2.3.0,>=2.2.0->tensorflow) (0.2.8)\n",
            "Requirement already satisfied: rsa<5,>=3.1.4; python_version >= \"3\" in /usr/local/lib/python3.6/dist-packages (from google-auth<2,>=1.6.3->tensorboard<2.3.0,>=2.2.0->tensorflow) (4.6)\n",
            "Requirement already satisfied: requests-oauthlib>=0.7.0 in /usr/local/lib/python3.6/dist-packages (from google-auth-oauthlib<0.5,>=0.4.1->tensorboard<2.3.0,>=2.2.0->tensorflow) (1.3.0)\n",
            "Requirement already satisfied: certifi>=2017.4.17 in /usr/local/lib/python3.6/dist-packages (from requests<3,>=2.21.0->tensorboard<2.3.0,>=2.2.0->tensorflow) (2020.6.20)\n",
            "Requirement already satisfied: idna<3,>=2.5 in /usr/local/lib/python3.6/dist-packages (from requests<3,>=2.21.0->tensorboard<2.3.0,>=2.2.0->tensorflow) (2.10)\n",
            "Requirement already satisfied: urllib3!=1.25.0,!=1.25.1,<1.26,>=1.21.1 in /usr/local/lib/python3.6/dist-packages (from requests<3,>=2.21.0->tensorboard<2.3.0,>=2.2.0->tensorflow) (1.24.3)\n",
            "Requirement already satisfied: chardet<4,>=3.0.2 in /usr/local/lib/python3.6/dist-packages (from requests<3,>=2.21.0->tensorboard<2.3.0,>=2.2.0->tensorflow) (3.0.4)\n",
            "Requirement already satisfied: zipp>=0.5 in /usr/local/lib/python3.6/dist-packages (from importlib-metadata; python_version < \"3.8\"->markdown>=2.6.8->tensorboard<2.3.0,>=2.2.0->tensorflow) (3.1.0)\n",
            "Requirement already satisfied: pyasn1<0.5.0,>=0.4.6 in /usr/local/lib/python3.6/dist-packages (from pyasn1-modules>=0.2.1->google-auth<2,>=1.6.3->tensorboard<2.3.0,>=2.2.0->tensorflow) (0.4.8)\n",
            "Requirement already satisfied: oauthlib>=3.0.0 in /usr/local/lib/python3.6/dist-packages (from requests-oauthlib>=0.7.0->google-auth-oauthlib<0.5,>=0.4.1->tensorboard<2.3.0,>=2.2.0->tensorflow) (3.1.0)\n"
          ],
          "name": "stdout"
        }
      ]
    },
    {
      "cell_type": "code",
      "metadata": {
        "id": "5_mzglgxIMuz",
        "colab_type": "code",
        "colab": {}
      },
      "source": [
        "# Create LSTM model\n",
        "import tensorflow as tf\n",
        "from tensorflow.keras.models import Sequential\n",
        "from tensorflow.keras.layers import Dense\n",
        "from tensorflow.keras.layers import LSTM"
      ],
      "execution_count": 17,
      "outputs": []
    },
    {
      "cell_type": "code",
      "metadata": {
        "id": "6oZdjeuTIMu3",
        "colab_type": "code",
        "colab": {}
      },
      "source": [
        "model=Sequential()\n",
        "model.add(LSTM(50,return_sequences=True,input_shape=(100,1))) #input_shape which is (X_train.shape[1],1)\n",
        "model.add(LSTM(50,return_sequences=True))\n",
        "model.add(LSTM(50))\n",
        "model.add(Dense(1))\n",
        "model.compile(loss = 'mean_squared_error',\n",
        "             optimizer='adam')"
      ],
      "execution_count": 18,
      "outputs": []
    },
    {
      "cell_type": "code",
      "metadata": {
        "id": "OVzvwp7XIMu6",
        "colab_type": "code",
        "colab": {
          "base_uri": "https://localhost:8080/",
          "height": 289
        },
        "outputId": "ac9ef3dd-162f-47b0-c17b-2b5a73a18deb"
      },
      "source": [
        "model.summary()"
      ],
      "execution_count": 19,
      "outputs": [
        {
          "output_type": "stream",
          "text": [
            "Model: \"sequential\"\n",
            "_________________________________________________________________\n",
            "Layer (type)                 Output Shape              Param #   \n",
            "=================================================================\n",
            "lstm (LSTM)                  (None, 100, 50)           10400     \n",
            "_________________________________________________________________\n",
            "lstm_1 (LSTM)                (None, 100, 50)           20200     \n",
            "_________________________________________________________________\n",
            "lstm_2 (LSTM)                (None, 50)                20200     \n",
            "_________________________________________________________________\n",
            "dense (Dense)                (None, 1)                 51        \n",
            "=================================================================\n",
            "Total params: 50,851\n",
            "Trainable params: 50,851\n",
            "Non-trainable params: 0\n",
            "_________________________________________________________________\n"
          ],
          "name": "stdout"
        }
      ]
    },
    {
      "cell_type": "code",
      "metadata": {
        "id": "1tkbgJ-vIMu9",
        "colab_type": "code",
        "colab": {
          "base_uri": "https://localhost:8080/",
          "height": 714
        },
        "outputId": "9d0cf0ab-063f-4f37-eefe-408e21c02e3e"
      },
      "source": [
        "\n",
        "\n",
        "model.fit(X_train, y_train, validation_data=(X_test,y_test), \n",
        "          epochs=20, batch_size=16, verbose=1)"
      ],
      "execution_count": 20,
      "outputs": [
        {
          "output_type": "stream",
          "text": [
            "Epoch 1/20\n",
            "49/49 [==============================] - 5s 92ms/step - loss: 0.0054 - val_loss: 0.0083\n",
            "Epoch 2/20\n",
            "49/49 [==============================] - 3s 69ms/step - loss: 7.4104e-04 - val_loss: 0.0083\n",
            "Epoch 3/20\n",
            "49/49 [==============================] - 3s 69ms/step - loss: 5.1944e-04 - val_loss: 0.0065\n",
            "Epoch 4/20\n",
            "49/49 [==============================] - 3s 69ms/step - loss: 5.0355e-04 - val_loss: 0.0041\n",
            "Epoch 5/20\n",
            "49/49 [==============================] - 3s 68ms/step - loss: 3.8722e-04 - val_loss: 0.0061\n",
            "Epoch 6/20\n",
            "49/49 [==============================] - 3s 70ms/step - loss: 3.6248e-04 - val_loss: 0.0058\n",
            "Epoch 7/20\n",
            "49/49 [==============================] - 3s 69ms/step - loss: 3.5301e-04 - val_loss: 0.0060\n",
            "Epoch 8/20\n",
            "49/49 [==============================] - 3s 69ms/step - loss: 3.2842e-04 - val_loss: 0.0062\n",
            "Epoch 9/20\n",
            "49/49 [==============================] - 3s 69ms/step - loss: 4.8787e-04 - val_loss: 0.0108\n",
            "Epoch 10/20\n",
            "49/49 [==============================] - 3s 69ms/step - loss: 3.7826e-04 - val_loss: 0.0030\n",
            "Epoch 11/20\n",
            "49/49 [==============================] - 3s 69ms/step - loss: 2.9594e-04 - val_loss: 0.0022\n",
            "Epoch 12/20\n",
            "49/49 [==============================] - 3s 69ms/step - loss: 3.0353e-04 - val_loss: 0.0030\n",
            "Epoch 13/20\n",
            "49/49 [==============================] - 3s 69ms/step - loss: 2.6517e-04 - val_loss: 0.0019\n",
            "Epoch 14/20\n",
            "49/49 [==============================] - 3s 70ms/step - loss: 2.8404e-04 - val_loss: 0.0033\n",
            "Epoch 15/20\n",
            "49/49 [==============================] - 3s 69ms/step - loss: 2.7673e-04 - val_loss: 0.0021\n",
            "Epoch 16/20\n",
            "49/49 [==============================] - 3s 69ms/step - loss: 2.5569e-04 - val_loss: 0.0034\n",
            "Epoch 17/20\n",
            "49/49 [==============================] - 3s 69ms/step - loss: 2.3086e-04 - val_loss: 0.0011\n",
            "Epoch 18/20\n",
            "49/49 [==============================] - 3s 69ms/step - loss: 2.3319e-04 - val_loss: 0.0035\n",
            "Epoch 19/20\n",
            "49/49 [==============================] - 3s 69ms/step - loss: 2.3444e-04 - val_loss: 0.0025\n",
            "Epoch 20/20\n",
            "49/49 [==============================] - 3s 69ms/step - loss: 2.3581e-04 - val_loss: 0.0024\n"
          ],
          "name": "stdout"
        },
        {
          "output_type": "execute_result",
          "data": {
            "text/plain": [
              "<tensorflow.python.keras.callbacks.History at 0x7fa85045b5f8>"
            ]
          },
          "metadata": {
            "tags": []
          },
          "execution_count": 20
        }
      ]
    },
    {
      "cell_type": "code",
      "metadata": {
        "id": "l5G412STIMu_",
        "colab_type": "code",
        "colab": {}
      },
      "source": [
        "import tensorflow as tf"
      ],
      "execution_count": 21,
      "outputs": []
    },
    {
      "cell_type": "code",
      "metadata": {
        "id": "6XGo2or5IMvF",
        "colab_type": "code",
        "colab": {}
      },
      "source": [
        "# prediction and check the performance metrics\n",
        "\n",
        "train_predict = model.predict(X_train)\n",
        "test_predict = model.predict(X_test)"
      ],
      "execution_count": 22,
      "outputs": []
    },
    {
      "cell_type": "code",
      "metadata": {
        "id": "uVEJvtGeIMvI",
        "colab_type": "code",
        "colab": {}
      },
      "source": [
        "# transformback to the original form\n",
        "\n",
        "train_predict = scaler.inverse_transform(train_predict)\n",
        "test_predict = scaler.inverse_transform(test_predict)"
      ],
      "execution_count": 23,
      "outputs": []
    },
    {
      "cell_type": "code",
      "metadata": {
        "id": "oAcK2L7EIMvL",
        "colab_type": "code",
        "colab": {
          "base_uri": "https://localhost:8080/",
          "height": 34
        },
        "outputId": "98ce89a7-d5cc-4187-bec8-4255eb600109"
      },
      "source": [
        "# calculate RMSE performance metrics\n",
        "\n",
        "import math\n",
        "from sklearn.metrics import mean_squared_error\n",
        "math.sqrt(mean_squared_error(y_train,train_predict))"
      ],
      "execution_count": 24,
      "outputs": [
        {
          "output_type": "execute_result",
          "data": {
            "text/plain": [
              "151.80520427919004"
            ]
          },
          "metadata": {
            "tags": []
          },
          "execution_count": 24
        }
      ]
    },
    {
      "cell_type": "code",
      "metadata": {
        "id": "w9cf1lk0IMvO",
        "colab_type": "code",
        "colab": {
          "base_uri": "https://localhost:8080/",
          "height": 34
        },
        "outputId": "13d740ac-d21d-4029-b634-29192260c1aa"
      },
      "source": [
        "# Test data RMSE\n",
        "\n",
        "math.sqrt(mean_squared_error(y_test,test_predict))"
      ],
      "execution_count": 25,
      "outputs": [
        {
          "output_type": "execute_result",
          "data": {
            "text/plain": [
              "261.0898807918203"
            ]
          },
          "metadata": {
            "tags": []
          },
          "execution_count": 25
        }
      ]
    },
    {
      "cell_type": "code",
      "metadata": {
        "id": "odA54wvNIMvR",
        "colab_type": "code",
        "colab": {
          "base_uri": "https://localhost:8080/",
          "height": 265
        },
        "outputId": "0be6171a-8445-4a30-a303-7211232798fa"
      },
      "source": [
        "# Plotting\n",
        "\n",
        "# shift train predictions for plotting\n",
        "look_back = 100\n",
        "trainPredictPlot = numpy.empty_like(df2)\n",
        "trainPredictPlot[:, :] = np.nan\n",
        "trainPredictPlot[look_back:len(train_predict) + look_back, :] = train_predict\n",
        "\n",
        "# shift test predictions for plotting\n",
        "testPredictPlot = numpy.empty_like(df2)\n",
        "testPredictPlot[:, :] = np.nan\n",
        "testPredictPlot[len(train_predict) + (look_back*2) + 1: len(df2) -1, :] = test_predict\n",
        "\n",
        "#plot baseline and predictions\n",
        "plt.plot(scaler.inverse_transform(df2))\n",
        "plt.plot(trainPredictPlot)\n",
        "plt.plot(testPredictPlot)\n",
        "plt.show()\n"
      ],
      "execution_count": 26,
      "outputs": [
        {
          "output_type": "display_data",
          "data": {
            "image/png": "[encoded data removed]",
            "text/plain": [
              "<Figure size 432x288 with 1 Axes>"
            ]
          },
          "metadata": {
            "tags": [],
            "needs_background": "light"
          }
        }
      ]
    },
    {
      "cell_type": "code",
      "metadata": {
        "id": "MzDyobASNEQZ",
        "colab_type": "code",
        "colab": {
          "base_uri": "https://localhost:8080/",
          "height": 34
        },
        "outputId": "b12f99d6-5a6d-4c2e-f4c9-2dd612e7f621"
      },
      "source": [
        "len(test_data)"
      ],
      "execution_count": 27,
      "outputs": [
        {
          "output_type": "execute_result",
          "data": {
            "text/plain": [
              "378"
            ]
          },
          "metadata": {
            "tags": []
          },
          "execution_count": 27
        }
      ]
    },
    {
      "cell_type": "code",
      "metadata": {
        "id": "5digdFfGIMvU",
        "colab_type": "code",
        "colab": {
          "base_uri": "https://localhost:8080/",
          "height": 51
        },
        "outputId": "14e93c2a-96b0-4cad-f379-bb46a1d4344d"
      },
      "source": [
        "# forcasting values using last 100 values\n",
        "\n",
        "print(len(test_data))\n",
        "x_input = test_data[278:].reshape(-1,1)\n",
        "x_input.shape"
      ],
      "execution_count": 28,
      "outputs": [
        {
          "output_type": "stream",
          "text": [
            "378\n"
          ],
          "name": "stdout"
        },
        {
          "output_type": "execute_result",
          "data": {
            "text/plain": [
              "(100, 1)"
            ]
          },
          "metadata": {
            "tags": []
          },
          "execution_count": 28
        }
      ]
    },
    {
      "cell_type": "code",
      "metadata": {
        "id": "GcDrd6ZqLkou",
        "colab_type": "code",
        "colab": {
          "base_uri": "https://localhost:8080/",
          "height": 34
        },
        "outputId": "9be7ccf1-d45e-48dd-b93a-79f06410cce7"
      },
      "source": [
        "x_input.shape"
      ],
      "execution_count": 35,
      "outputs": [
        {
          "output_type": "execute_result",
          "data": {
            "text/plain": [
              "(37, 1)"
            ]
          },
          "metadata": {
            "tags": []
          },
          "execution_count": 35
        }
      ]
    },
    {
      "cell_type": "code",
      "metadata": {
        "id": "aFldiLy_IMvW",
        "colab_type": "code",
        "colab": {}
      },
      "source": [
        "temp_input = list(x_input)\n",
        "temp_input = temp_input[0].tolist()"
      ],
      "execution_count": 29,
      "outputs": []
    },
    {
      "cell_type": "code",
      "metadata": {
        "id": "0gUFPUySIMvY",
        "colab_type": "code",
        "colab": {
          "base_uri": "https://localhost:8080/",
          "height": 1000
        },
        "outputId": "893e8c1f-88ba-4060-c616-6261d08b0fdd"
      },
      "source": [
        "# demonstrate prediction for next 10 days\n",
        "\n",
        "from numpy import array\n",
        "\n",
        "lst_output = []\n",
        "n_steps = 100\n",
        "i = 0\n",
        "while(i < 30):\n",
        "    \n",
        "    if(len(temp_input)>100):\n",
        "        #print(temp_input)\n",
        "        x_input = np.array(temp_input[1:])\n",
        "        print(\"{} day input {}\".format(i, x_input))\n",
        "        x_input = x_input.reshape(1, -1)\n",
        "        x_input = x_input.reshape(1, n_steps, 1)\n",
        "        #print(x_input)\n",
        "        yhat = model.predict(x_input, verbose=0)\n",
        "        print(\"{} day output {}\".format(i, yhat))\n",
        "        temp_input.extend(yhat[0].tolist())\n",
        "        temp_input = temp_input[1:]\n",
        "        #print(temp_input)\n",
        "        lst_output.extend(yhat.tolist())\n",
        "        i=i+1\n",
        "    else:\n",
        "        x_input = x_input.reshape((1, n_steps, 1))\n",
        "        yhat = model.predict(x_input, verbose=0)\n",
        "        print(yhat[0])\n",
        "        temp_input.extend(yhat[0].tolist())\n",
        "        print(len(temp_input))\n",
        "        lst_output.extend(yhat.tolist())\n",
        "        i=i+1\n",
        "        \n",
        "\n",
        "print(lst_output)"
      ],
      "execution_count": 30,
      "outputs": [
        {
          "output_type": "stream",
          "text": [
            "[0.9130516]\n",
            "2\n",
            "[0.9130516]\n",
            "3\n",
            "[0.9130516]\n",
            "4\n",
            "[0.9130516]\n",
            "5\n",
            "[0.9130516]\n",
            "6\n",
            "[0.9130516]\n",
            "7\n",
            "[0.9130516]\n",
            "8\n",
            "[0.9130516]\n",
            "9\n",
            "[0.9130516]\n",
            "10\n",
            "[0.9130516]\n",
            "11\n",
            "[0.9130516]\n",
            "12\n",
            "[0.9130516]\n",
            "13\n",
            "[0.9130516]\n",
            "14\n",
            "[0.9130516]\n",
            "15\n",
            "[0.9130516]\n",
            "16\n",
            "[0.9130516]\n",
            "17\n",
            "[0.9130516]\n",
            "18\n",
            "[0.9130516]\n",
            "19\n",
            "[0.9130516]\n",
            "20\n",
            "[0.9130516]\n",
            "21\n",
            "[0.9130516]\n",
            "22\n",
            "[0.9130516]\n",
            "23\n",
            "[0.9130516]\n",
            "24\n",
            "[0.9130516]\n",
            "25\n",
            "[0.9130516]\n",
            "26\n",
            "[0.9130516]\n",
            "27\n",
            "[0.9130516]\n",
            "28\n",
            "[0.9130516]\n",
            "29\n",
            "[0.9130516]\n",
            "30\n",
            "[0.9130516]\n",
            "31\n",
            "[[0.9130516052246094], [0.9130516052246094], [0.9130516052246094], [0.9130516052246094], [0.9130516052246094], [0.9130516052246094], [0.9130516052246094], [0.9130516052246094], [0.9130516052246094], [0.9130516052246094], [0.9130516052246094], [0.9130516052246094], [0.9130516052246094], [0.9130516052246094], [0.9130516052246094], [0.9130516052246094], [0.9130516052246094], [0.9130516052246094], [0.9130516052246094], [0.9130516052246094], [0.9130516052246094], [0.9130516052246094], [0.9130516052246094], [0.9130516052246094], [0.9130516052246094], [0.9130516052246094], [0.9130516052246094], [0.9130516052246094], [0.9130516052246094], [0.9130516052246094]]\n"
          ],
          "name": "stdout"
        }
      ]
    },
    {
      "cell_type": "code",
      "metadata": {
        "id": "F4dkuI74IMva",
        "colab_type": "code",
        "colab": {
          "base_uri": "https://localhost:8080/",
          "height": 68
        },
        "outputId": "88ae3a83-3170-4435-bd55-d36a6ee73179"
      },
      "source": [
        "# plotting the forcasting values\n",
        "\n",
        "day_new = np.arange(1,101) #taking last 100 values\n",
        "day_pred = np.arange(101,131) #forecast next 30 values\n",
        "day_pred"
      ],
      "execution_count": 37,
      "outputs": [
        {
          "output_type": "execute_result",
          "data": {
            "text/plain": [
              "array([101, 102, 103, 104, 105, 106, 107, 108, 109, 110, 111, 112, 113,\n",
              "       114, 115, 116, 117, 118, 119, 120, 121, 122, 123, 124, 125, 126,\n",
              "       127, 128, 129, 130])"
            ]
          },
          "metadata": {
            "tags": []
          },
          "execution_count": 37
        }
      ]
    },
    {
      "cell_type": "code",
      "metadata": {
        "id": "3ezdT2v4IMvd",
        "colab_type": "code",
        "colab": {}
      },
      "source": [
        "df3 = df2.tolist()\n",
        "df3.extend(lst_output)\n",
        "plt.show(df3[1000:])"
      ],
      "execution_count": 36,
      "outputs": []
    },
    {
      "cell_type": "code",
      "metadata": {
        "id": "6S7uIhsVIMvf",
        "colab_type": "code",
        "colab": {
          "base_uri": "https://localhost:8080/",
          "height": 282
        },
        "outputId": "53a31ddc-3b33-4a87-9bbf-ff3319c14171"
      },
      "source": [
        "plt.plot(day_new,scaler.inverse_transform(df2[1158:]))\n",
        "plt.plot(day_pred,scaler.inverse_transform(lst_output))"
      ],
      "execution_count": 34,
      "outputs": [
        {
          "output_type": "execute_result",
          "data": {
            "text/plain": [
              "[<matplotlib.lines.Line2D at 0x7fa85045b128>]"
            ]
          },
          "metadata": {
            "tags": []
          },
          "execution_count": 34
        },
        {
          "output_type": "display_data",
          "data": {
            "image/png": "[encoded data removed]",
            "text/plain": [
              "<Figure size 432x288 with 1 Axes>"
            ]
          },
          "metadata": {
            "tags": [],
            "needs_background": "light"
          }
        }
      ]
    },
    {
      "cell_type": "code",
      "metadata": {
        "id": "JPiQMflmNgw9",
        "colab_type": "code",
        "colab": {}
      },
      "source": [
        ""
      ],
      "execution_count": null,
      "outputs": []
    }
  ]
}